{
 "cells": [
  {
   "cell_type": "code",
   "execution_count": 302,
   "metadata": {},
   "outputs": [],
   "source": [
    "import requests\n",
    "from bs4 import BeautifulSoup\n",
    "import nltk\n",
    "import urllib.request \n",
    "import pickle"
   ]
  },
  {
   "cell_type": "code",
   "execution_count": 303,
   "metadata": {},
   "outputs": [],
   "source": [
    "url='https://www.thehindu.com/news/national/chandrayaan-2-vikram-lander-located-on-lunar-surface-isro-chairman/article29367136.ece'\n",
    "respnse=requests.get(url)\n",
    "page=respnse.text\n",
    "html=BeautifulSoup(page, 'html.parser')\n",
    "span1=html.select('p')"
   ]
  },
  {
   "cell_type": "code",
   "execution_count": 305,
   "metadata": {},
   "outputs": [
    {
     "name": "stdout",
     "output_type": "stream",
     "text": [
      "['\\nThe last image of Vikram relayed at ISRO’s communication centre just before the agency announced that communication was lost with the lander. Photo: YouTube/ISRO Official\\n\\xa0 ', 'The Indian Space Research Organisation (ISRO) has retrieved images and located the lander Vikram on the moon on September 8 and is analysing them for a clear picture of the lander’s condition, it is learnt.', 'At 1.45 a.m. on September 7, 12 minutes into its descent onto the lunar surface, the lander lost contact with earth. It is believed to have deviated from its path, fallen silent, and probably crashed on moon. ', None, 'The pictures are among the early images sent later in the day by the main Chandrayaan 2 spacecraft, which continues to orbit the moon from pole to pole from a 100-km distance. The lander was spotted some distance away — possibly about half a kilometre — from its intended touchdown point, reports said.', 'The originally chosen region was about 70° south of the lunar equator and about 600 km from the lunar south pole.', None, '\\nYou have inspired us, will explore solar system together, says NASA to ISRO ', 'On September 8, news reports quoted ISRO chairman K. Sivan as saying the agency was trying to restore contact with the lander.', 'Neither Dr. Sivan nor authorised ISRO officials responded to phone calls or messages sent confirming the citing of the lander.', 'News agency ANI however, quoted Dr. Sivan as saying, “We have found the location of lander Vikram on the lunar surface. The orbiter has clicked its image. We are trying to re-establish contact with it. It would be premature to say anything” else at this stage.', None, \"The orbiter is fitted with a fine Orbiter High Resolution Camera of 30-cm resolution. A Terrain Mapping Camera-2 is another imager put among the orbiter's eight payloads.\", None, '\\nChandrayaan 2: India’s second moon mission — complete coverage\\n', 'Informal but knowledgeable circles who have seen images of the lander on moon said the images were harvested hours after the landing went awry.', 'Meanwhile, experts said time was running out and the possibility of re-establishing communication with the missing lander looks “less and less probable”.', None, 'A senior official associated with the mission said, “Progressively... as time goes by... it’s difficult (to establish link)”. However, with “right orientation” it can still generate power and recharge batteries with solar panels,” he added.\\xa0 “But it looks less and less probable, progressively,” the official said on condition of anonymity.', 'Another top ISRO official said the “hard-landing” of Vikram had made the task of reviving links more difficult as it may not have the “right orientation,” and may not have landed on its four legs.', '(With inputs from Madhumati D.S.)', None, 'Please enter a valid email address.', '\\nPrintable version | Oct 2, 2019 11:02:38 PM | https://www.thehindu.com/news/national/chandrayaan-2-vikram-lander-located-on-lunar-surface-isro-chairman/article29367136.ece\\n', '\\n© THG PUBLISHING PVT LTD.\\n', '\\nAir Chief Marshal B.S. Dhanoa, who retires on September 30, hands over the baton\\n', '\\nFarmers fear that the government’s offer will disrupt their traditional trade ties with buyers from the rest of India ', \"Support The Hindu's new online experience with zero ads.\", None]\n"
     ]
    }
   ],
   "source": [
    "a=[]\n",
    "for i in span1:\n",
    "    i=i.string\n",
    "    a.append(i)\n",
    "print(a)\n",
    "text=str(a)"
   ]
  },
  {
   "cell_type": "code",
   "execution_count": 306,
   "metadata": {},
   "outputs": [],
   "source": [
    "import pandas as pd\n",
    "import numpy as np\n",
    "import matplotlib.pyplot as plt"
   ]
  },
  {
   "cell_type": "code",
   "execution_count": 307,
   "metadata": {},
   "outputs": [
    {
     "name": "stdout",
     "output_type": "stream",
     "text": [
      "[\"['\\\\nThe last image of Vikram relayed at ISRO’s communication centre just before the agency announced that communication was lost with the lander.\", \"Photo: YouTube/ISRO Official\\\\n\\\\xa0 ', 'The Indian Space Research Organisation (ISRO) has retrieved images and located the lander Vikram on the moon on September 8 and is analysing them for a clear picture of the lander’s condition, it is learnt.\", \"', 'At 1.45 a.m. on September 7, 12 minutes into its descent onto the lunar surface, the lander lost contact with earth.\", 'It is believed to have deviated from its path, fallen silent, and probably crashed on moon.', \"', None, 'The pictures are among the early images sent later in the day by the main Chandrayaan 2 spacecraft, which continues to orbit the moon from pole to pole from a 100-km distance.\", 'The lander was spotted some distance away — possibly about half a kilometre — from its intended touchdown point, reports said.', \"', 'The originally chosen region was about 70° south of the lunar equator and about 600 km from the lunar south pole.\", \"', None, '\\\\nYou have inspired us, will explore solar system together, says NASA to ISRO ', 'On September 8, news reports quoted ISRO chairman K. Sivan as saying the agency was trying to restore contact with the lander.\", \"', 'Neither Dr. Sivan nor authorised ISRO officials responded to phone calls or messages sent confirming the citing of the lander.\", \"', 'News agency ANI however, quoted Dr. Sivan as saying, “We have found the location of lander Vikram on the lunar surface.\", 'The orbiter has clicked its image.', 'We are trying to re-establish contact with it.', 'It would be premature to say anything” else at this stage.', '\\', None, \"The orbiter is fitted with a fine Orbiter High Resolution Camera of 30-cm resolution.', \"A Terrain Mapping Camera-2 is another imager put among the orbiter's eight payloads.\", '\", None, \\'\\\\nChandrayaan 2: India’s second moon mission — complete coverage\\\\n\\', \\'Informal but knowledgeable circles who have seen images of the lander on moon said the images were harvested hours after the landing went awry.', \"', 'Meanwhile, experts said time was running out and the possibility of re-establishing communication with the missing lander looks “less and less probable”.\", \"', None, 'A senior official associated with the mission said, “Progressively... as time goes by... it’s difficult (to establish link)”.\", 'However, with “right orientation” it can still generate power and recharge batteries with solar panels,” he added.\\\\xa0 “But it looks less and less probable, progressively,” the official said on condition of anonymity.', \"', 'Another top ISRO official said the “hard-landing” of Vikram had made the task of reviving links more difficult as it may not have the “right orientation,” and may not have landed on its four legs.\", \"', '(With inputs from Madhumati D.S.\", \")', None, 'Please enter a valid email address.\", \"', '\\\\nPrintable version | Oct 2, 2019 11:02:38 PM | https://www.thehindu.com/news/national/chandrayaan-2-vikram-lander-located-on-lunar-surface-isro-chairman/article29367136.ece\\\\n', '\\\\n© THG PUBLISHING PVT LTD.\\\\n', '\\\\nAir Chief Marshal B.S.\", 'Dhanoa, who retires on September 30, hands over the baton\\\\n\\', \\'\\\\nFarmers fear that the government’s offer will disrupt their traditional trade ties with buyers from the rest of India \\', \"Support The Hindu\\'s new online experience with zero ads.', '\", None]']\n"
     ]
    }
   ],
   "source": [
    "#Sentence Tokenization\n",
    "from nltk.tokenize import sent_tokenize\n",
    "tokenized_text=sent_tokenize(text)\n",
    "#print(tokenized_text)"
   ]
  },
  {
   "cell_type": "code",
   "execution_count": 308,
   "metadata": {},
   "outputs": [
    {
     "data": {
      "text/html": [
       "<div>\n",
       "<style scoped>\n",
       "    .dataframe tbody tr th:only-of-type {\n",
       "        vertical-align: middle;\n",
       "    }\n",
       "\n",
       "    .dataframe tbody tr th {\n",
       "        vertical-align: top;\n",
       "    }\n",
       "\n",
       "    .dataframe thead th {\n",
       "        text-align: right;\n",
       "    }\n",
       "</style>\n",
       "<table border=\"1\" class=\"dataframe\">\n",
       "  <thead>\n",
       "    <tr style=\"text-align: right;\">\n",
       "      <th></th>\n",
       "      <th>text</th>\n",
       "    </tr>\n",
       "  </thead>\n",
       "  <tbody>\n",
       "    <tr>\n",
       "      <td>0</td>\n",
       "      <td>['\\nThe last image of Vikram relayed at ISRO’s...</td>\n",
       "    </tr>\n",
       "    <tr>\n",
       "      <td>1</td>\n",
       "      <td>Photo: YouTube/ISRO Official\\n\\xa0 ', 'The Ind...</td>\n",
       "    </tr>\n",
       "    <tr>\n",
       "      <td>2</td>\n",
       "      <td>', 'At 1.45 a.m. on September 7, 12 minutes in...</td>\n",
       "    </tr>\n",
       "    <tr>\n",
       "      <td>3</td>\n",
       "      <td>It is believed to have deviated from its path,...</td>\n",
       "    </tr>\n",
       "    <tr>\n",
       "      <td>4</td>\n",
       "      <td>', None, 'The pictures are among the early ima...</td>\n",
       "    </tr>\n",
       "    <tr>\n",
       "      <td>5</td>\n",
       "      <td>The lander was spotted some distance away — po...</td>\n",
       "    </tr>\n",
       "  </tbody>\n",
       "</table>\n",
       "</div>"
      ],
      "text/plain": [
       "                                                text\n",
       "0  ['\\nThe last image of Vikram relayed at ISRO’s...\n",
       "1  Photo: YouTube/ISRO Official\\n\\xa0 ', 'The Ind...\n",
       "2  ', 'At 1.45 a.m. on September 7, 12 minutes in...\n",
       "3  It is believed to have deviated from its path,...\n",
       "4  ', None, 'The pictures are among the early ima...\n",
       "5  The lander was spotted some distance away — po..."
      ]
     },
     "execution_count": 308,
     "metadata": {},
     "output_type": "execute_result"
    }
   ],
   "source": [
    "text=pd.DataFrame()\n",
    "text[['text']]=pd.DataFrame(tokenized_text)\n",
    "text.head(6)"
   ]
  },
  {
   "cell_type": "code",
   "execution_count": 309,
   "metadata": {},
   "outputs": [
    {
     "data": {
      "text/html": [
       "<div>\n",
       "<style scoped>\n",
       "    .dataframe tbody tr th:only-of-type {\n",
       "        vertical-align: middle;\n",
       "    }\n",
       "\n",
       "    .dataframe tbody tr th {\n",
       "        vertical-align: top;\n",
       "    }\n",
       "\n",
       "    .dataframe thead th {\n",
       "        text-align: right;\n",
       "    }\n",
       "</style>\n",
       "<table border=\"1\" class=\"dataframe\">\n",
       "  <thead>\n",
       "    <tr style=\"text-align: right;\">\n",
       "      <th></th>\n",
       "      <th>text</th>\n",
       "      <th>word_count</th>\n",
       "    </tr>\n",
       "  </thead>\n",
       "  <tbody>\n",
       "    <tr>\n",
       "      <td>0</td>\n",
       "      <td>['\\nThe last image of Vikram relayed at ISRO’s...</td>\n",
       "      <td>22</td>\n",
       "    </tr>\n",
       "    <tr>\n",
       "      <td>1</td>\n",
       "      <td>Photo: YouTube/ISRO Official\\n\\xa0 ', 'The Ind...</td>\n",
       "      <td>39</td>\n",
       "    </tr>\n",
       "    <tr>\n",
       "      <td>2</td>\n",
       "      <td>', 'At 1.45 a.m. on September 7, 12 minutes in...</td>\n",
       "      <td>22</td>\n",
       "    </tr>\n",
       "    <tr>\n",
       "      <td>3</td>\n",
       "      <td>It is believed to have deviated from its path,...</td>\n",
       "      <td>16</td>\n",
       "    </tr>\n",
       "    <tr>\n",
       "      <td>4</td>\n",
       "      <td>', None, 'The pictures are among the early ima...</td>\n",
       "      <td>34</td>\n",
       "    </tr>\n",
       "  </tbody>\n",
       "</table>\n",
       "</div>"
      ],
      "text/plain": [
       "                                                text  word_count\n",
       "0  ['\\nThe last image of Vikram relayed at ISRO’s...          22\n",
       "1  Photo: YouTube/ISRO Official\\n\\xa0 ', 'The Ind...          39\n",
       "2  ', 'At 1.45 a.m. on September 7, 12 minutes in...          22\n",
       "3  It is believed to have deviated from its path,...          16\n",
       "4  ', None, 'The pictures are among the early ima...          34"
      ]
     },
     "execution_count": 309,
     "metadata": {},
     "output_type": "execute_result"
    }
   ],
   "source": [
    "#count Words\n",
    "text['word_count'] = text['text'].apply(lambda x: len(str(x).split(\" \")))\n",
    "text[['text','word_count']].head()"
   ]
  },
  {
   "cell_type": "code",
   "execution_count": 310,
   "metadata": {},
   "outputs": [
    {
     "data": {
      "text/html": [
       "<div>\n",
       "<style scoped>\n",
       "    .dataframe tbody tr th:only-of-type {\n",
       "        vertical-align: middle;\n",
       "    }\n",
       "\n",
       "    .dataframe tbody tr th {\n",
       "        vertical-align: top;\n",
       "    }\n",
       "\n",
       "    .dataframe thead th {\n",
       "        text-align: right;\n",
       "    }\n",
       "</style>\n",
       "<table border=\"1\" class=\"dataframe\">\n",
       "  <thead>\n",
       "    <tr style=\"text-align: right;\">\n",
       "      <th></th>\n",
       "      <th>text</th>\n",
       "      <th>char_count</th>\n",
       "    </tr>\n",
       "  </thead>\n",
       "  <tbody>\n",
       "    <tr>\n",
       "      <td>0</td>\n",
       "      <td>['\\nThe last image of Vikram relayed at ISRO’s...</td>\n",
       "      <td>145</td>\n",
       "    </tr>\n",
       "    <tr>\n",
       "      <td>1</td>\n",
       "      <td>Photo: YouTube/ISRO Official\\n\\xa0 ', 'The Ind...</td>\n",
       "      <td>245</td>\n",
       "    </tr>\n",
       "    <tr>\n",
       "      <td>2</td>\n",
       "      <td>', 'At 1.45 a.m. on September 7, 12 minutes in...</td>\n",
       "      <td>120</td>\n",
       "    </tr>\n",
       "    <tr>\n",
       "      <td>3</td>\n",
       "      <td>It is believed to have deviated from its path,...</td>\n",
       "      <td>91</td>\n",
       "    </tr>\n",
       "    <tr>\n",
       "      <td>4</td>\n",
       "      <td>', None, 'The pictures are among the early ima...</td>\n",
       "      <td>185</td>\n",
       "    </tr>\n",
       "  </tbody>\n",
       "</table>\n",
       "</div>"
      ],
      "text/plain": [
       "                                                text  char_count\n",
       "0  ['\\nThe last image of Vikram relayed at ISRO’s...         145\n",
       "1  Photo: YouTube/ISRO Official\\n\\xa0 ', 'The Ind...         245\n",
       "2  ', 'At 1.45 a.m. on September 7, 12 minutes in...         120\n",
       "3  It is believed to have deviated from its path,...          91\n",
       "4  ', None, 'The pictures are among the early ima...         185"
      ]
     },
     "execution_count": 310,
     "metadata": {},
     "output_type": "execute_result"
    }
   ],
   "source": [
    "#count characters\n",
    "text['char_count'] = text['text'].str.len()\n",
    "text[['text','char_count']].head()"
   ]
  },
  {
   "cell_type": "code",
   "execution_count": 311,
   "metadata": {},
   "outputs": [
    {
     "data": {
      "text/html": [
       "<div>\n",
       "<style scoped>\n",
       "    .dataframe tbody tr th:only-of-type {\n",
       "        vertical-align: middle;\n",
       "    }\n",
       "\n",
       "    .dataframe tbody tr th {\n",
       "        vertical-align: top;\n",
       "    }\n",
       "\n",
       "    .dataframe thead th {\n",
       "        text-align: right;\n",
       "    }\n",
       "</style>\n",
       "<table border=\"1\" class=\"dataframe\">\n",
       "  <thead>\n",
       "    <tr style=\"text-align: right;\">\n",
       "      <th></th>\n",
       "      <th>text</th>\n",
       "      <th>avg_word</th>\n",
       "    </tr>\n",
       "  </thead>\n",
       "  <tbody>\n",
       "    <tr>\n",
       "      <td>0</td>\n",
       "      <td>['\\nThe last image of Vikram relayed at ISRO’s...</td>\n",
       "      <td>5.636364</td>\n",
       "    </tr>\n",
       "    <tr>\n",
       "      <td>1</td>\n",
       "      <td>Photo: YouTube/ISRO Official\\n\\xa0 ', 'The Ind...</td>\n",
       "      <td>5.307692</td>\n",
       "    </tr>\n",
       "    <tr>\n",
       "      <td>2</td>\n",
       "      <td>', 'At 1.45 a.m. on September 7, 12 minutes in...</td>\n",
       "      <td>4.500000</td>\n",
       "    </tr>\n",
       "    <tr>\n",
       "      <td>3</td>\n",
       "      <td>It is believed to have deviated from its path,...</td>\n",
       "      <td>4.750000</td>\n",
       "    </tr>\n",
       "    <tr>\n",
       "      <td>4</td>\n",
       "      <td>', None, 'The pictures are among the early ima...</td>\n",
       "      <td>4.470588</td>\n",
       "    </tr>\n",
       "  </tbody>\n",
       "</table>\n",
       "</div>"
      ],
      "text/plain": [
       "                                                text  avg_word\n",
       "0  ['\\nThe last image of Vikram relayed at ISRO’s...  5.636364\n",
       "1  Photo: YouTube/ISRO Official\\n\\xa0 ', 'The Ind...  5.307692\n",
       "2  ', 'At 1.45 a.m. on September 7, 12 minutes in...  4.500000\n",
       "3  It is believed to have deviated from its path,...  4.750000\n",
       "4  ', None, 'The pictures are among the early ima...  4.470588"
      ]
     },
     "execution_count": 311,
     "metadata": {},
     "output_type": "execute_result"
    }
   ],
   "source": [
    "#Average Word Length\n",
    "def avg_word(sentence):\n",
    "  words = sentence.split()\n",
    "  return (sum(len(word) for word in words)/len(words))\n",
    "text['avg_word'] = text['text'].apply(lambda x: avg_word(x))\n",
    "text[['text','avg_word']].head()"
   ]
  },
  {
   "cell_type": "code",
   "execution_count": 312,
   "metadata": {},
   "outputs": [
    {
     "data": {
      "text/html": [
       "<div>\n",
       "<style scoped>\n",
       "    .dataframe tbody tr th:only-of-type {\n",
       "        vertical-align: middle;\n",
       "    }\n",
       "\n",
       "    .dataframe tbody tr th {\n",
       "        vertical-align: top;\n",
       "    }\n",
       "\n",
       "    .dataframe thead th {\n",
       "        text-align: right;\n",
       "    }\n",
       "</style>\n",
       "<table border=\"1\" class=\"dataframe\">\n",
       "  <thead>\n",
       "    <tr style=\"text-align: right;\">\n",
       "      <th></th>\n",
       "      <th>text</th>\n",
       "      <th>stopwords</th>\n",
       "    </tr>\n",
       "  </thead>\n",
       "  <tbody>\n",
       "    <tr>\n",
       "      <td>0</td>\n",
       "      <td>['\\nThe last image of Vikram relayed at ISRO’s...</td>\n",
       "      <td>9</td>\n",
       "    </tr>\n",
       "    <tr>\n",
       "      <td>1</td>\n",
       "      <td>Photo: YouTube/ISRO Official\\n\\xa0 ', 'The Ind...</td>\n",
       "      <td>15</td>\n",
       "    </tr>\n",
       "    <tr>\n",
       "      <td>2</td>\n",
       "      <td>', 'At 1.45 a.m. on September 7, 12 minutes in...</td>\n",
       "      <td>6</td>\n",
       "    </tr>\n",
       "    <tr>\n",
       "      <td>3</td>\n",
       "      <td>It is believed to have deviated from its path,...</td>\n",
       "      <td>7</td>\n",
       "    </tr>\n",
       "    <tr>\n",
       "      <td>4</td>\n",
       "      <td>', None, 'The pictures are among the early ima...</td>\n",
       "      <td>13</td>\n",
       "    </tr>\n",
       "  </tbody>\n",
       "</table>\n",
       "</div>"
      ],
      "text/plain": [
       "                                                text  stopwords\n",
       "0  ['\\nThe last image of Vikram relayed at ISRO’s...          9\n",
       "1  Photo: YouTube/ISRO Official\\n\\xa0 ', 'The Ind...         15\n",
       "2  ', 'At 1.45 a.m. on September 7, 12 minutes in...          6\n",
       "3  It is believed to have deviated from its path,...          7\n",
       "4  ', None, 'The pictures are among the early ima...         13"
      ]
     },
     "execution_count": 312,
     "metadata": {},
     "output_type": "execute_result"
    }
   ],
   "source": [
    "#count of stopwords\n",
    "from nltk.corpus import stopwords\n",
    "stop = stopwords.words('english')\n",
    "\n",
    "text['stopwords'] = text['text'].apply(lambda x: len([x for x in x.split() if x in stop]))\n",
    "text[['text','stopwords']].head()"
   ]
  },
  {
   "cell_type": "code",
   "execution_count": 313,
   "metadata": {},
   "outputs": [
    {
     "data": {
      "text/html": [
       "<div>\n",
       "<style scoped>\n",
       "    .dataframe tbody tr th:only-of-type {\n",
       "        vertical-align: middle;\n",
       "    }\n",
       "\n",
       "    .dataframe tbody tr th {\n",
       "        vertical-align: top;\n",
       "    }\n",
       "\n",
       "    .dataframe thead th {\n",
       "        text-align: right;\n",
       "    }\n",
       "</style>\n",
       "<table border=\"1\" class=\"dataframe\">\n",
       "  <thead>\n",
       "    <tr style=\"text-align: right;\">\n",
       "      <th></th>\n",
       "      <th>text</th>\n",
       "      <th>hastags</th>\n",
       "    </tr>\n",
       "  </thead>\n",
       "  <tbody>\n",
       "    <tr>\n",
       "      <td>0</td>\n",
       "      <td>['\\nThe last image of Vikram relayed at ISRO’s...</td>\n",
       "      <td>0</td>\n",
       "    </tr>\n",
       "    <tr>\n",
       "      <td>1</td>\n",
       "      <td>Photo: YouTube/ISRO Official\\n\\xa0 ', 'The Ind...</td>\n",
       "      <td>0</td>\n",
       "    </tr>\n",
       "    <tr>\n",
       "      <td>2</td>\n",
       "      <td>', 'At 1.45 a.m. on September 7, 12 minutes in...</td>\n",
       "      <td>0</td>\n",
       "    </tr>\n",
       "    <tr>\n",
       "      <td>3</td>\n",
       "      <td>It is believed to have deviated from its path,...</td>\n",
       "      <td>0</td>\n",
       "    </tr>\n",
       "    <tr>\n",
       "      <td>4</td>\n",
       "      <td>', None, 'The pictures are among the early ima...</td>\n",
       "      <td>0</td>\n",
       "    </tr>\n",
       "  </tbody>\n",
       "</table>\n",
       "</div>"
      ],
      "text/plain": [
       "                                                text  hastags\n",
       "0  ['\\nThe last image of Vikram relayed at ISRO’s...        0\n",
       "1  Photo: YouTube/ISRO Official\\n\\xa0 ', 'The Ind...        0\n",
       "2  ', 'At 1.45 a.m. on September 7, 12 minutes in...        0\n",
       "3  It is believed to have deviated from its path,...        0\n",
       "4  ', None, 'The pictures are among the early ima...        0"
      ]
     },
     "execution_count": 313,
     "metadata": {},
     "output_type": "execute_result"
    }
   ],
   "source": [
    "#Number of special characters\n",
    "text['hastags'] = text['text'].apply(lambda x: len([x for x in x.split() if x.startswith('#')]))\n",
    "text[['text','hastags']].head()"
   ]
  },
  {
   "cell_type": "code",
   "execution_count": 314,
   "metadata": {},
   "outputs": [
    {
     "data": {
      "text/html": [
       "<div>\n",
       "<style scoped>\n",
       "    .dataframe tbody tr th:only-of-type {\n",
       "        vertical-align: middle;\n",
       "    }\n",
       "\n",
       "    .dataframe tbody tr th {\n",
       "        vertical-align: top;\n",
       "    }\n",
       "\n",
       "    .dataframe thead th {\n",
       "        text-align: right;\n",
       "    }\n",
       "</style>\n",
       "<table border=\"1\" class=\"dataframe\">\n",
       "  <thead>\n",
       "    <tr style=\"text-align: right;\">\n",
       "      <th></th>\n",
       "      <th>text</th>\n",
       "      <th>numerics</th>\n",
       "    </tr>\n",
       "  </thead>\n",
       "  <tbody>\n",
       "    <tr>\n",
       "      <td>0</td>\n",
       "      <td>['\\nThe last image of Vikram relayed at ISRO’s...</td>\n",
       "      <td>0</td>\n",
       "    </tr>\n",
       "    <tr>\n",
       "      <td>1</td>\n",
       "      <td>Photo: YouTube/ISRO Official\\n\\xa0 ', 'The Ind...</td>\n",
       "      <td>1</td>\n",
       "    </tr>\n",
       "    <tr>\n",
       "      <td>2</td>\n",
       "      <td>', 'At 1.45 a.m. on September 7, 12 minutes in...</td>\n",
       "      <td>1</td>\n",
       "    </tr>\n",
       "    <tr>\n",
       "      <td>3</td>\n",
       "      <td>It is believed to have deviated from its path,...</td>\n",
       "      <td>0</td>\n",
       "    </tr>\n",
       "    <tr>\n",
       "      <td>4</td>\n",
       "      <td>', None, 'The pictures are among the early ima...</td>\n",
       "      <td>1</td>\n",
       "    </tr>\n",
       "  </tbody>\n",
       "</table>\n",
       "</div>"
      ],
      "text/plain": [
       "                                                text  numerics\n",
       "0  ['\\nThe last image of Vikram relayed at ISRO’s...         0\n",
       "1  Photo: YouTube/ISRO Official\\n\\xa0 ', 'The Ind...         1\n",
       "2  ', 'At 1.45 a.m. on September 7, 12 minutes in...         1\n",
       "3  It is believed to have deviated from its path,...         0\n",
       "4  ', None, 'The pictures are among the early ima...         1"
      ]
     },
     "execution_count": 314,
     "metadata": {},
     "output_type": "execute_result"
    }
   ],
   "source": [
    "#count of numerics\n",
    "text['numerics'] = text['text'].apply(lambda x: len([x for x in x.split() if x.isdigit()]))\n",
    "text[['text','numerics']].head()"
   ]
  },
  {
   "cell_type": "code",
   "execution_count": 315,
   "metadata": {},
   "outputs": [
    {
     "data": {
      "text/html": [
       "<div>\n",
       "<style scoped>\n",
       "    .dataframe tbody tr th:only-of-type {\n",
       "        vertical-align: middle;\n",
       "    }\n",
       "\n",
       "    .dataframe tbody tr th {\n",
       "        vertical-align: top;\n",
       "    }\n",
       "\n",
       "    .dataframe thead th {\n",
       "        text-align: right;\n",
       "    }\n",
       "</style>\n",
       "<table border=\"1\" class=\"dataframe\">\n",
       "  <thead>\n",
       "    <tr style=\"text-align: right;\">\n",
       "      <th></th>\n",
       "      <th>text</th>\n",
       "      <th>upper</th>\n",
       "    </tr>\n",
       "  </thead>\n",
       "  <tbody>\n",
       "    <tr>\n",
       "      <td>0</td>\n",
       "      <td>['\\nThe last image of Vikram relayed at ISRO’s...</td>\n",
       "      <td>0</td>\n",
       "    </tr>\n",
       "    <tr>\n",
       "      <td>1</td>\n",
       "      <td>Photo: YouTube/ISRO Official\\n\\xa0 ', 'The Ind...</td>\n",
       "      <td>1</td>\n",
       "    </tr>\n",
       "    <tr>\n",
       "      <td>2</td>\n",
       "      <td>', 'At 1.45 a.m. on September 7, 12 minutes in...</td>\n",
       "      <td>0</td>\n",
       "    </tr>\n",
       "    <tr>\n",
       "      <td>3</td>\n",
       "      <td>It is believed to have deviated from its path,...</td>\n",
       "      <td>0</td>\n",
       "    </tr>\n",
       "    <tr>\n",
       "      <td>4</td>\n",
       "      <td>', None, 'The pictures are among the early ima...</td>\n",
       "      <td>0</td>\n",
       "    </tr>\n",
       "  </tbody>\n",
       "</table>\n",
       "</div>"
      ],
      "text/plain": [
       "                                                text  upper\n",
       "0  ['\\nThe last image of Vikram relayed at ISRO’s...      0\n",
       "1  Photo: YouTube/ISRO Official\\n\\xa0 ', 'The Ind...      1\n",
       "2  ', 'At 1.45 a.m. on September 7, 12 minutes in...      0\n",
       "3  It is believed to have deviated from its path,...      0\n",
       "4  ', None, 'The pictures are among the early ima...      0"
      ]
     },
     "execution_count": 315,
     "metadata": {},
     "output_type": "execute_result"
    }
   ],
   "source": [
    "#number of Uppercase words\n",
    "text['upper'] = text['text'].apply(lambda x: len([x for x in x.split() if x.isupper()]))\n",
    "text[['text','upper']].head()"
   ]
  },
  {
   "cell_type": "code",
   "execution_count": 316,
   "metadata": {},
   "outputs": [
    {
     "data": {
      "text/plain": [
       "0    ['\\nthe last image of vikram relayed at isro’s...\n",
       "1    photo: youtube/isro official\\n\\xa0 ', 'the ind...\n",
       "2    ', 'at 1.45 a.m. on september 7, 12 minutes in...\n",
       "3    it is believed to have deviated from its path,...\n",
       "4    ', none, 'the pictures are among the early ima...\n",
       "Name: text, dtype: object"
      ]
     },
     "execution_count": 316,
     "metadata": {},
     "output_type": "execute_result"
    }
   ],
   "source": [
    "#Basic Pre-processing\n",
    "#making all as Lower case\n",
    "text['text'] = text['text'].apply(lambda x: \" \".join(x.lower() for x in x.split()))\n",
    "text['text'].head()"
   ]
  },
  {
   "cell_type": "code",
   "execution_count": 317,
   "metadata": {},
   "outputs": [
    {
     "data": {
      "text/plain": [
       "0    nthe last image of vikram relayed at isros com...\n",
       "1    photo youtubeisro officialnxa0  the indian spa...\n",
       "2     at 145 am on september 7 12 minutes into its ...\n",
       "3    it is believed to have deviated from its path ...\n",
       "4     none the pictures are among the early images ...\n",
       "Name: text, dtype: object"
      ]
     },
     "execution_count": 317,
     "metadata": {},
     "output_type": "execute_result"
    }
   ],
   "source": [
    "#Removing Punctuation\n",
    "text['text'] = text['text'].str.replace('[^\\w\\s]','')\n",
    "text['text'].head()"
   ]
  },
  {
   "cell_type": "code",
   "execution_count": 318,
   "metadata": {},
   "outputs": [
    {
     "data": {
      "text/plain": [
       "0    nthe last image vikram relayed isros communica...\n",
       "1    photo youtubeisro officialnxa0 indian space re...\n",
       "2    145 september 7 12 minutes descent onto lunar ...\n",
       "3    believed deviated path fallen silent probably ...\n",
       "4    none pictures among early images sent later da...\n",
       "Name: text, dtype: object"
      ]
     },
     "execution_count": 318,
     "metadata": {},
     "output_type": "execute_result"
    }
   ],
   "source": [
    "#Removal of Stop Words\n",
    "from nltk.corpus import stopwords\n",
    "stop = stopwords.words('english')\n",
    "text['text'] = text['text'].apply(lambda x: \" \".join(x for x in x.split() if x not in stop))\n",
    "text['text'].head()"
   ]
  },
  {
   "cell_type": "code",
   "execution_count": 319,
   "metadata": {},
   "outputs": [
    {
     "name": "stdout",
     "output_type": "stream",
     "text": [
      "lander       9\n",
      "none         7\n",
      "said         6\n",
      "isro         5\n",
      "moon         5\n",
      "less         4\n",
      "vikram       4\n",
      "lunar        4\n",
      "images       4\n",
      "september    4\n",
      "dtype: int64\n",
      "<FreqDist with 238 samples and 324 outcomes>\n"
     ]
    }
   ],
   "source": [
    "# tokenization and find the frequency\n",
    "\n",
    "from nltk.tokenize import sent_tokenize\n",
    "from nltk.tokenize import word_tokenize\n",
    "from nltk.probability import FreqDist\n",
    "t=[]\n",
    "for i in range(len(text['text'])):\n",
    "    tokenized_text=sent_tokenize(text['text'][i])\n",
    "    tokenized_word=word_tokenize(text['text'][i])\n",
    "    t =t+tokenized_word\n",
    "#print(t)\n",
    "freq = pd.Series(' '.join(text['text']).split()).value_counts()[:10]\n",
    "print(freq)\n",
    "fdist = FreqDist(t)\n",
    "print(fdist)"
   ]
  },
  {
   "cell_type": "code",
   "execution_count": 320,
   "metadata": {},
   "outputs": [
    {
     "data": {
      "image/png": "[encoded data removed]",
      "text/plain": [
       "<Figure size 432x288 with 1 Axes>"
      ]
     },
     "metadata": {
      "needs_background": "light"
     },
     "output_type": "display_data"
    }
   ],
   "source": [
    "#plotting the frequency of words\n",
    "fdist.plot(25,cumulative=False)\n",
    "plt.show()"
   ]
  },
  {
   "cell_type": "code",
   "execution_count": 321,
   "metadata": {},
   "outputs": [
    {
     "data": {
      "text/plain": [
       "0    nthe last image relayed isros communication ce...\n",
       "1    photo youtubeisro officialnxa0 indian space re...\n",
       "2    145 7 12 minutes descent onto surface lost con...\n",
       "3    believed deviated path fallen silent probably ...\n",
       "4    pictures among early sent later day main chand...\n",
       "Name: text, dtype: object"
      ]
     },
     "execution_count": 321,
     "metadata": {},
     "output_type": "execute_result"
    }
   ],
   "source": [
    "#Common word removal\n",
    "freq = list(freq.index)\n",
    "text['text'] = text['text'].apply(lambda x: \" \".join(x for x in x.split() if x not in freq))\n",
    "text['text'].head()"
   ]
  },
  {
   "cell_type": "code",
   "execution_count": 322,
   "metadata": {},
   "outputs": [
    {
     "data": {
      "text/plain": [
       "high          1\n",
       "experts       1\n",
       "associated    1\n",
       "research      1\n",
       "path          1\n",
       "dtype: int64"
      ]
     },
     "execution_count": 322,
     "metadata": {},
     "output_type": "execute_result"
    }
   ],
   "source": [
    "#Rare words removal\n",
    "freq = pd.Series(' '.join(text['text']).split()).value_counts()[-10:]\n",
    "freq.head()"
   ]
  },
  {
   "cell_type": "code",
   "execution_count": 323,
   "metadata": {},
   "outputs": [
    {
     "data": {
      "text/plain": [
       "0    nthe last image relayed isros communication ce...\n",
       "1    photo youtubeisro officialnxa0 indian space or...\n",
       "2    145 7 12 minutes descent onto surface lost con...\n",
       "3     believed deviated fallen silent probably crashed\n",
       "4    pictures among early sent later day main chand...\n",
       "Name: text, dtype: object"
      ]
     },
     "execution_count": 323,
     "metadata": {},
     "output_type": "execute_result"
    }
   ],
   "source": [
    "freq = list(freq.index)\n",
    "text['text']= text['text'].apply(lambda x: \" \".join(x for x in x.split() if x not in freq))\n",
    "text['text'].head()"
   ]
  },
  {
   "cell_type": "code",
   "execution_count": 324,
   "metadata": {},
   "outputs": [
    {
     "data": {
      "text/plain": [
       "0    nthe last imag relay isro commun centr agenc a...\n",
       "1    photo youtubeisro officialnxa0 indian space or...\n",
       "2    145 7 12 minut descent onto surfac lost contac...\n",
       "3            believ deviat fallen silent probabl crash\n",
       "4    pictur among earli sent later day main chandra...\n",
       "Name: text, dtype: object"
      ]
     },
     "execution_count": 324,
     "metadata": {},
     "output_type": "execute_result"
    }
   ],
   "source": [
    "#Stemming\n",
    "from nltk.stem import PorterStemmer\n",
    "st = PorterStemmer()\n",
    "text['text'][:5].apply(lambda x: \" \".join([st.stem(word) for word in x.split()]))"
   ]
  },
  {
   "cell_type": "code",
   "execution_count": 325,
   "metadata": {},
   "outputs": [
    {
     "data": {
      "text/plain": [
       "0    nthe last image relayed isros communication ce...\n",
       "1    photo youtubeisro officialnxa0 indian space or...\n",
       "2    145 7 12 minute descent onto surface lost cont...\n",
       "3     believed deviated fallen silent probably crashed\n",
       "4    picture among early sent later day main chandr...\n",
       "Name: text, dtype: object"
      ]
     },
     "execution_count": 325,
     "metadata": {},
     "output_type": "execute_result"
    }
   ],
   "source": [
    "#Lemmatization\n",
    "from textblob import Word\n",
    "text['text'] =text['text'].apply(lambda x: \" \".join([Word(word).lemmatize() for word in x.split()]))\n",
    "text['text'].head()"
   ]
  },
  {
   "cell_type": "code",
   "execution_count": 326,
   "metadata": {},
   "outputs": [
    {
     "data": {
      "text/plain": [
       "[('nthe', 'DT'),\n",
       " ('last', 'JJ'),\n",
       " ('image', 'NN'),\n",
       " ('vikram', 'VBD'),\n",
       " ('relayed', 'VBN')]"
      ]
     },
     "execution_count": 326,
     "metadata": {},
     "output_type": "execute_result"
    }
   ],
   "source": [
    "#POS Tagging\n",
    "nltk.pos_tag(t)[0:5]"
   ]
  },
  {
   "cell_type": "code",
   "execution_count": 327,
   "metadata": {},
   "outputs": [
    {
     "data": {
      "text/plain": [
       "[WordList(['nthe', 'last']),\n",
       " WordList(['last', 'image']),\n",
       " WordList(['image', 'relayed']),\n",
       " WordList(['relayed', 'isros']),\n",
       " WordList(['isros', 'communication']),\n",
       " WordList(['communication', 'centre']),\n",
       " WordList(['centre', 'agency']),\n",
       " WordList(['agency', 'announced']),\n",
       " WordList(['announced', 'communication']),\n",
       " WordList(['communication', 'lost'])]"
      ]
     },
     "execution_count": 327,
     "metadata": {},
     "output_type": "execute_result"
    }
   ],
   "source": [
    "#Text Processing\n",
    "#N-grams(2)\n",
    "from textblob import TextBlob\n",
    "TextBlob(text['text'][0]).ngrams(2)"
   ]
  },
  {
   "cell_type": "code",
   "execution_count": 328,
   "metadata": {},
   "outputs": [
    {
     "data": {
      "text/html": [
       "<div>\n",
       "<style scoped>\n",
       "    .dataframe tbody tr th:only-of-type {\n",
       "        vertical-align: middle;\n",
       "    }\n",
       "\n",
       "    .dataframe tbody tr th {\n",
       "        vertical-align: top;\n",
       "    }\n",
       "\n",
       "    .dataframe thead th {\n",
       "        text-align: right;\n",
       "    }\n",
       "</style>\n",
       "<table border=\"1\" class=\"dataframe\">\n",
       "  <thead>\n",
       "    <tr style=\"text-align: right;\">\n",
       "      <th></th>\n",
       "      <th>words</th>\n",
       "      <th>tf</th>\n",
       "    </tr>\n",
       "  </thead>\n",
       "  <tbody>\n",
       "    <tr>\n",
       "      <td>0</td>\n",
       "      <td>8</td>\n",
       "      <td>1</td>\n",
       "    </tr>\n",
       "    <tr>\n",
       "      <td>1</td>\n",
       "      <td>indian</td>\n",
       "      <td>1</td>\n",
       "    </tr>\n",
       "    <tr>\n",
       "      <td>2</td>\n",
       "      <td>located</td>\n",
       "      <td>1</td>\n",
       "    </tr>\n",
       "    <tr>\n",
       "      <td>3</td>\n",
       "      <td>officialnxa0</td>\n",
       "      <td>1</td>\n",
       "    </tr>\n",
       "    <tr>\n",
       "      <td>4</td>\n",
       "      <td>picture</td>\n",
       "      <td>1</td>\n",
       "    </tr>\n",
       "  </tbody>\n",
       "</table>\n",
       "</div>"
      ],
      "text/plain": [
       "          words  tf\n",
       "0             8   1\n",
       "1        indian   1\n",
       "2       located   1\n",
       "3  officialnxa0   1\n",
       "4       picture   1"
      ]
     },
     "execution_count": 328,
     "metadata": {},
     "output_type": "execute_result"
    }
   ],
   "source": [
    "#Term frequency\n",
    "tf1 = (text['text'][1:2]).apply(lambda x: pd.value_counts(x.split(\" \"))).sum(axis = 0).reset_index()\n",
    "tf1.columns = ['words','tf']\n",
    "tf1.head()"
   ]
  },
  {
   "cell_type": "code",
   "execution_count": 329,
   "metadata": {},
   "outputs": [
    {
     "data": {
      "text/html": [
       "<div>\n",
       "<style scoped>\n",
       "    .dataframe tbody tr th:only-of-type {\n",
       "        vertical-align: middle;\n",
       "    }\n",
       "\n",
       "    .dataframe tbody tr th {\n",
       "        vertical-align: top;\n",
       "    }\n",
       "\n",
       "    .dataframe thead th {\n",
       "        text-align: right;\n",
       "    }\n",
       "</style>\n",
       "<table border=\"1\" class=\"dataframe\">\n",
       "  <thead>\n",
       "    <tr style=\"text-align: right;\">\n",
       "      <th></th>\n",
       "      <th>words</th>\n",
       "      <th>tf</th>\n",
       "      <th>idf</th>\n",
       "    </tr>\n",
       "  </thead>\n",
       "  <tbody>\n",
       "    <tr>\n",
       "      <td>0</td>\n",
       "      <td>8</td>\n",
       "      <td>1</td>\n",
       "      <td>2.120264</td>\n",
       "    </tr>\n",
       "    <tr>\n",
       "      <td>1</td>\n",
       "      <td>indian</td>\n",
       "      <td>1</td>\n",
       "      <td>3.218876</td>\n",
       "    </tr>\n",
       "    <tr>\n",
       "      <td>2</td>\n",
       "      <td>located</td>\n",
       "      <td>1</td>\n",
       "      <td>2.525729</td>\n",
       "    </tr>\n",
       "    <tr>\n",
       "      <td>3</td>\n",
       "      <td>officialnxa0</td>\n",
       "      <td>1</td>\n",
       "      <td>3.218876</td>\n",
       "    </tr>\n",
       "    <tr>\n",
       "      <td>4</td>\n",
       "      <td>picture</td>\n",
       "      <td>1</td>\n",
       "      <td>2.525729</td>\n",
       "    </tr>\n",
       "  </tbody>\n",
       "</table>\n",
       "</div>"
      ],
      "text/plain": [
       "          words  tf       idf\n",
       "0             8   1  2.120264\n",
       "1        indian   1  3.218876\n",
       "2       located   1  2.525729\n",
       "3  officialnxa0   1  3.218876\n",
       "4       picture   1  2.525729"
      ]
     },
     "execution_count": 329,
     "metadata": {},
     "output_type": "execute_result"
    }
   ],
   "source": [
    "#Inverse Document Frequency\n",
    "for i,word in enumerate(tf1['words']):\n",
    "  tf1.loc[i, 'idf'] = np.log(text.shape[0]/(len(text[text['text'].str.contains(word)])))\n",
    "tf1.head()"
   ]
  },
  {
   "cell_type": "code",
   "execution_count": 330,
   "metadata": {},
   "outputs": [
    {
     "data": {
      "text/html": [
       "<div>\n",
       "<style scoped>\n",
       "    .dataframe tbody tr th:only-of-type {\n",
       "        vertical-align: middle;\n",
       "    }\n",
       "\n",
       "    .dataframe tbody tr th {\n",
       "        vertical-align: top;\n",
       "    }\n",
       "\n",
       "    .dataframe thead th {\n",
       "        text-align: right;\n",
       "    }\n",
       "</style>\n",
       "<table border=\"1\" class=\"dataframe\">\n",
       "  <thead>\n",
       "    <tr style=\"text-align: right;\">\n",
       "      <th></th>\n",
       "      <th>words</th>\n",
       "      <th>tf</th>\n",
       "      <th>idf</th>\n",
       "      <th>tfidf</th>\n",
       "    </tr>\n",
       "  </thead>\n",
       "  <tbody>\n",
       "    <tr>\n",
       "      <td>0</td>\n",
       "      <td>8</td>\n",
       "      <td>1</td>\n",
       "      <td>2.120264</td>\n",
       "      <td>2.120264</td>\n",
       "    </tr>\n",
       "    <tr>\n",
       "      <td>1</td>\n",
       "      <td>indian</td>\n",
       "      <td>1</td>\n",
       "      <td>3.218876</td>\n",
       "      <td>3.218876</td>\n",
       "    </tr>\n",
       "    <tr>\n",
       "      <td>2</td>\n",
       "      <td>located</td>\n",
       "      <td>1</td>\n",
       "      <td>2.525729</td>\n",
       "      <td>2.525729</td>\n",
       "    </tr>\n",
       "    <tr>\n",
       "      <td>3</td>\n",
       "      <td>officialnxa0</td>\n",
       "      <td>1</td>\n",
       "      <td>3.218876</td>\n",
       "      <td>3.218876</td>\n",
       "    </tr>\n",
       "    <tr>\n",
       "      <td>4</td>\n",
       "      <td>picture</td>\n",
       "      <td>1</td>\n",
       "      <td>2.525729</td>\n",
       "      <td>2.525729</td>\n",
       "    </tr>\n",
       "  </tbody>\n",
       "</table>\n",
       "</div>"
      ],
      "text/plain": [
       "          words  tf       idf     tfidf\n",
       "0             8   1  2.120264  2.120264\n",
       "1        indian   1  3.218876  3.218876\n",
       "2       located   1  2.525729  2.525729\n",
       "3  officialnxa0   1  3.218876  3.218876\n",
       "4       picture   1  2.525729  2.525729"
      ]
     },
     "execution_count": 330,
     "metadata": {},
     "output_type": "execute_result"
    }
   ],
   "source": [
    "#Term Frequency – Inverse Document Frequency (TF-IDF)\n",
    "tf1['tfidf'] = tf1['tf'] * tf1['idf']\n",
    "tf1.head()"
   ]
  },
  {
   "cell_type": "code",
   "execution_count": 331,
   "metadata": {},
   "outputs": [
    {
     "name": "stdout",
     "output_type": "stream",
     "text": [
      "{'him', 'other', 'each', \"mustn't\", 'shouldn', 'and', 'had', 'if', \"wouldn't\", 'y', 't', 'his', 'are', 'this', 'd', 'while', 'do', 'did', 'can', \"you're\", 'were', 'under', \"didn't\", 'about', 'themselves', 'in', 'whom', \"that'll\", 'now', 'has', 'then', 'here', 'me', 'why', 'too', 'yourself', \"needn't\", 'once', 'further', 'my', 'her', \"she's\", 'between', \"should've\", 'she', 'won', \"you've\", 'just', 'any', 'only', 'i', 'was', 'but', 'both', 'some', 'shan', \"couldn't\", 'of', 'didn', 'does', 'they', 'nor', 'himself', 'myself', 'weren', 'against', \"won't\", 'because', 'is', 'up', 'than', 's', \"hadn't\", 'few', 'such', 'itself', 'until', 'through', 'an', 'ain', 'with', 'isn', 'where', 'at', 'that', 'you', 'doesn', 'mightn', 've', \"doesn't\", \"haven't\", 'for', 'have', 'am', 'over', 'more', 'very', 'having', 'o', \"don't\", 'wouldn', 'hadn', 'it', \"isn't\", 'ma', 'needn', 'don', 'mustn', 'he', 'their', 'should', 'theirs', 'll', 'aren', 'ourselves', 'ours', 'haven', 'below', 'down', 'out', 'there', 'after', 'hers', 'off', 're', \"mightn't\", 'will', 'm', \"you'll\", 'same', \"shan't\", 'before', 'the', 'all', 'when', \"wasn't\", 'not', 'by', 'who', 'hasn', \"it's\", 'we', 'doing', 'how', 'them', 'again', 'yours', 'into', 'your', 'most', 'so', 'yourselves', 'been', 'our', 'or', 'herself', 'during', 'a', \"aren't\", 'on', 'couldn', 'as', 'to', 'those', 'be', \"you'd\", 'its', 'what', \"hasn't\", \"shouldn't\", 'above', 'wasn', 'which', 'from', 'own', 'these', 'being', \"weren't\", 'no'}\n"
     ]
    }
   ],
   "source": [
    "#making worldcloud\n",
    "from wordcloud import WordCloud, STOPWORDS\n",
    "from nltk.corpus import stopwords\n",
    "stop_words=set(stopwords.words(\"english\"))\n",
    "print(stop_words)"
   ]
  },
  {
   "cell_type": "code",
   "execution_count": 332,
   "metadata": {},
   "outputs": [
    {
     "data": {
      "image/png": "[encoded data removed]",
      "text/plain": [
       "<Figure size 360x360 with 1 Axes>"
      ]
     },
     "metadata": {
      "needs_background": "light"
     },
     "output_type": "display_data"
    }
   ],
   "source": [
    "comment_words = ' '\n",
    "for words in t: \n",
    "    comment_words = comment_words + words + ' '\n",
    "    \n",
    "wordcloud = WordCloud(width = 600, height = 600, \n",
    "                background_color='white' , \n",
    "                stopwords = stop_words, \n",
    "                min_font_size = 10).generate(comment_words) \n",
    "  \n",
    "# plot the WordCloud image                        \n",
    "plt.figure(figsize = (5, 5), facecolor = None) \n",
    "plt.imshow(wordcloud) \n",
    "plt.axis(\"off\") \n",
    "plt.tight_layout(pad = 0) "
   ]
  },
  {
   "cell_type": "code",
   "execution_count": 333,
   "metadata": {},
   "outputs": [
    {
     "data": {
      "text/html": [
       "<div>\n",
       "<style scoped>\n",
       "    .dataframe tbody tr th:only-of-type {\n",
       "        vertical-align: middle;\n",
       "    }\n",
       "\n",
       "    .dataframe tbody tr th {\n",
       "        vertical-align: top;\n",
       "    }\n",
       "\n",
       "    .dataframe thead th {\n",
       "        text-align: right;\n",
       "    }\n",
       "</style>\n",
       "<table border=\"1\" class=\"dataframe\">\n",
       "  <thead>\n",
       "    <tr style=\"text-align: right;\">\n",
       "      <th></th>\n",
       "      <th>text</th>\n",
       "      <th>word_count</th>\n",
       "      <th>char_count</th>\n",
       "      <th>avg_word</th>\n",
       "      <th>stopwords</th>\n",
       "      <th>hastags</th>\n",
       "      <th>numerics</th>\n",
       "      <th>upper</th>\n",
       "    </tr>\n",
       "  </thead>\n",
       "  <tbody>\n",
       "    <tr>\n",
       "      <td>0</td>\n",
       "      <td>nthe last image relayed isros communication ce...</td>\n",
       "      <td>22</td>\n",
       "      <td>145</td>\n",
       "      <td>5.636364</td>\n",
       "      <td>9</td>\n",
       "      <td>0</td>\n",
       "      <td>0</td>\n",
       "      <td>0</td>\n",
       "    </tr>\n",
       "    <tr>\n",
       "      <td>1</td>\n",
       "      <td>photo youtubeisro officialnxa0 indian space or...</td>\n",
       "      <td>39</td>\n",
       "      <td>245</td>\n",
       "      <td>5.307692</td>\n",
       "      <td>15</td>\n",
       "      <td>0</td>\n",
       "      <td>1</td>\n",
       "      <td>1</td>\n",
       "    </tr>\n",
       "    <tr>\n",
       "      <td>2</td>\n",
       "      <td>145 7 12 minute descent onto surface lost cont...</td>\n",
       "      <td>22</td>\n",
       "      <td>120</td>\n",
       "      <td>4.500000</td>\n",
       "      <td>6</td>\n",
       "      <td>0</td>\n",
       "      <td>1</td>\n",
       "      <td>0</td>\n",
       "    </tr>\n",
       "    <tr>\n",
       "      <td>3</td>\n",
       "      <td>believed deviated fallen silent probably crashed</td>\n",
       "      <td>16</td>\n",
       "      <td>91</td>\n",
       "      <td>4.750000</td>\n",
       "      <td>7</td>\n",
       "      <td>0</td>\n",
       "      <td>0</td>\n",
       "      <td>0</td>\n",
       "    </tr>\n",
       "    <tr>\n",
       "      <td>4</td>\n",
       "      <td>picture among early sent later day main chandr...</td>\n",
       "      <td>34</td>\n",
       "      <td>185</td>\n",
       "      <td>4.470588</td>\n",
       "      <td>13</td>\n",
       "      <td>0</td>\n",
       "      <td>1</td>\n",
       "      <td>0</td>\n",
       "    </tr>\n",
       "  </tbody>\n",
       "</table>\n",
       "</div>"
      ],
      "text/plain": [
       "                                                text  word_count  char_count  \\\n",
       "0  nthe last image relayed isros communication ce...          22         145   \n",
       "1  photo youtubeisro officialnxa0 indian space or...          39         245   \n",
       "2  145 7 12 minute descent onto surface lost cont...          22         120   \n",
       "3   believed deviated fallen silent probably crashed          16          91   \n",
       "4  picture among early sent later day main chandr...          34         185   \n",
       "\n",
       "   avg_word  stopwords  hastags  numerics  upper  \n",
       "0  5.636364          9        0         0      0  \n",
       "1  5.307692         15        0         1      1  \n",
       "2  4.500000          6        0         1      0  \n",
       "3  4.750000          7        0         0      0  \n",
       "4  4.470588         13        0         1      0  "
      ]
     },
     "execution_count": 333,
     "metadata": {},
     "output_type": "execute_result"
    }
   ],
   "source": [
    "text.head()"
   ]
  },
  {
   "cell_type": "code",
   "execution_count": 351,
   "metadata": {},
   "outputs": [],
   "source": [
    "from textblob import TextBlob"
   ]
  },
  {
   "cell_type": "code",
   "execution_count": 358,
   "metadata": {},
   "outputs": [
    {
     "data": {
      "text/plain": [
       "'nthe last image relayed isros communication centre agency announced communication lost'"
      ]
     },
     "execution_count": 358,
     "metadata": {},
     "output_type": "execute_result"
    }
   ],
   "source": [
    "text['text'][0]"
   ]
  },
  {
   "cell_type": "code",
   "execution_count": 361,
   "metadata": {},
   "outputs": [
    {
     "name": "stdout",
     "output_type": "stream",
     "text": [
      "Sentiment(polarity=0.0, subjectivity=0.06666666666666667)\n",
      "Sentiment(polarity=0.10000000000000002, subjectivity=0.3833333333333333)\n",
      "Sentiment(polarity=0.0, subjectivity=0.0)\n",
      "Sentiment(polarity=0.0, subjectivity=0.1)\n",
      "Sentiment(polarity=0.08888888888888889, subjectivity=0.2111111111111111)\n",
      "Sentiment(polarity=-0.16666666666666666, subjectivity=0.16666666666666666)\n",
      "Sentiment(polarity=0.375, subjectivity=0.75)\n",
      "Sentiment(polarity=0.0, subjectivity=0.0)\n",
      "Sentiment(polarity=0.0, subjectivity=0.0)\n",
      "Sentiment(polarity=0.0, subjectivity=0.0)\n",
      "Sentiment(polarity=0.0, subjectivity=0.0)\n",
      "Sentiment(polarity=0.0, subjectivity=0.0)\n",
      "Sentiment(polarity=0.0, subjectivity=0.0)\n",
      "Sentiment(polarity=0.4166666666666667, subjectivity=0.5)\n",
      "Sentiment(polarity=0.0, subjectivity=0.0)\n",
      "Sentiment(polarity=0.0, subjectivity=0.0)\n",
      "Sentiment(polarity=-0.2, subjectivity=0.05)\n",
      "Sentiment(polarity=-0.5, subjectivity=1.0)\n",
      "Sentiment(polarity=0.2857142857142857, subjectivity=0.5357142857142857)\n",
      "Sentiment(polarity=0.09523809523809523, subjectivity=0.6785714285714285)\n",
      "Sentiment(polarity=0.0, subjectivity=0.0)\n",
      "Sentiment(polarity=0.0, subjectivity=0.0)\n",
      "Sentiment(polarity=0.0, subjectivity=0.0)\n",
      "Sentiment(polarity=0.06818181818181818, subjectivity=0.6022727272727273)\n",
      "Sentiment(polarity=0.0, subjectivity=0.0)\n"
     ]
    }
   ],
   "source": [
    "for i in range(len(text['text'])):\n",
    "    se=TextBlob(text['text'][i])\n",
    "    print(se.sentiment)"
   ]
  }
 ],
 "metadata": {
  "kernelspec": {
   "display_name": "Python 3",
   "language": "python",
   "name": "python3"
  },
  "language_info": {
   "codemirror_mode": {
    "name": "ipython",
    "version": 3
   },
   "file_extension": ".py",
   "mimetype": "text/x-python",
   "name": "python",
   "nbconvert_exporter": "python",
   "pygments_lexer": "ipython3",
   "version": "3.7.1"
  }
 },
 "nbformat": 4,
 "nbformat_minor": 2
}
